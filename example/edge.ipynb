{
 "cells": [
  {
   "cell_type": "code",
   "execution_count": 1,
   "metadata": {},
   "outputs": [
    {
     "name": "stdout",
     "output_type": "stream",
     "text": [
      "autotime loaded.\n"
     ]
    }
   ],
   "source": [
    "from tqdm import tqdm\n",
    "from init import *\n",
    "import gif\n",
    "import pyvortex as vr\n",
    "from mpl_toolkits.basemap import Basemap, addcyclic, cm"
   ]
  },
  {
   "cell_type": "code",
   "execution_count": 2,
   "metadata": {},
   "outputs": [
    {
     "name": "stdout",
     "output_type": "stream",
     "text": [
      "time: 9.54 ms\n"
     ]
    }
   ],
   "source": [
    "def get_basemap(ax = None, min_lat = 30):\n",
    "    if not ax:\n",
    "        fig, ax = facets(1, 1, width = 10, aspect = 0.6); ax = ax[0]\n",
    "    m = Basemap(projection = 'spstere', lon_0 = 180, boundinglat = min_lat, \\\n",
    "                round = True, ax = ax)\n",
    "    m.drawcoastlines(linewidth=0.35)\n",
    "    m.drawcountries(linewidth=0.35)\n",
    "    m.drawmeridians(np.arange(0, 360, 60), labels = [0,0,0,0])\n",
    "    m.drawparallels(np.arange(20, 80, 20), labels = [1,1,0,0])\n",
    "    return m\n",
    "\n",
    "\n",
    "@gif.frame\n",
    "def plot(time, min_lat=-20): \n",
    "    fig, axes = plt.subplots(2, 3, figsize=(15, 11))\n",
    "    axes = axes.flatten()\n",
    "    cax = fig.add_axes([0.265, 0.08, 0.5, 0.02])\n",
    "    levels = [400, 450, 500, 550, 600, 650]\n",
    "    for (level, ax) in zip(levels, axes):\n",
    "        m = get_basemap(ax=ax, min_lat=min_lat)\n",
    "        dic = {'level':level}\n",
    "        pedge = eql.vedge.isel(time=time).sel(dic, method='nearest').values.astype('int')  \n",
    "        pvv = eql.eql.isel(time=time).sel(dic, method='nearest').sel(lat=slice(-90, min_lat))\n",
    "        lon = pvv.lon.values\n",
    "        #pvv, lon = addcyclic(ppv.values, ppv.lon.values)\n",
    "        xx, yy = np.meshgrid(pvv.lon, pvv.lat)\n",
    "        xx, yy = m(xx, yy)\n",
    "        h = m.contourf(xx, yy, pvv, cmap='jet', levels=np.arange(0, 91))\n",
    "        m.contour(xx, yy, pvv, levels=[pedge], color='black', zorder=20, lw=10)\n",
    "        text = 'Level: %s K \\n Vedge: %s$^\\circ$N'%(level, pedge)\n",
    "        ax.set_title(text, x=0.5, y=1.01)\n",
    "    cb = plt.colorbar(h, cax=cax, orientation='horizontal')\n",
    "    cb.set_label(label = 'Equivalent Latitude [$^\\circ$S]', size=25)\n",
    "    plt.subplots_adjust(hspace=0.16, wspace=0.1)\n",
    "    plt.suptitle('Date: %s'%str(eql.time.values[time]).split('T')[0])"
   ]
  },
  {
   "cell_type": "code",
   "execution_count": 3,
   "metadata": {},
   "outputs": [
    {
     "name": "stdout",
     "output_type": "stream",
     "text": [
      "time: 1min 42s\n"
     ]
    }
   ],
   "source": [
    "files = sorted(glob.glob('/media/pankaj/ext2/antarctic/era5/2015-10*.nc'))\n",
    "df = xr.open_mfdataset(files, concat_dim='time')\n",
    "eql = vr.PolarVortex(-1*df['pv'][:, :, ::-1, :] , df['u'][:, :, ::-1, :]).get_edge(min_eql=30)"
   ]
  },
  {
   "cell_type": "code",
   "execution_count": 5,
   "metadata": {},
   "outputs": [
    {
     "name": "stderr",
     "output_type": "stream",
     "text": [
      "100%|██████████| 31/31 [03:17<00:00,  6.36s/it]\n"
     ]
    },
    {
     "name": "stdout",
     "output_type": "stream",
     "text": [
      "time: 3min 20s\n"
     ]
    }
   ],
   "source": [
    "min_lat = -20\n",
    "frames = []\n",
    "for time in tqdm(np.arange(len(files))):\n",
    "    frame = plot(time)\n",
    "    frames.append(frame)\n",
    "    \n",
    "gif.save(frames, 'antarctic.gif', duration=500)"
   ]
  }
 ],
 "metadata": {
  "kernelspec": {
   "display_name": "Python 3",
   "language": "python",
   "name": "python3"
  },
  "language_info": {
   "codemirror_mode": {
    "name": "ipython",
    "version": 3
   },
   "file_extension": ".py",
   "mimetype": "text/x-python",
   "name": "python",
   "nbconvert_exporter": "python",
   "pygments_lexer": "ipython3",
   "version": "3.7.7"
  }
 },
 "nbformat": 4,
 "nbformat_minor": 4
}
